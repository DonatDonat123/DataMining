{
 "cells": [
  {
   "cell_type": "markdown",
   "metadata": {},
   "source": [
    "# Homework assignment 3: Decision trees and ROC curves\n",
    "\n",
    "** Objective: ** The objective of this exercise is to become familiar with fitting decision trees and\n",
    "making ROC curves in Python.\n",
    "\n",
    "** Material: ** Pang-Ning Tan, Michael Steinbach, and Vipin Kumar, Introduction to Data Min-\n",
    "ing, section 4.1-4.6, as well as the included article on ROC curves.\n",
    "\n",
    "** Important: ** When handing in your homework:\n",
    "+ Provide clear and complete answers to the questions below under a seperate header (not hidden some-where in your source code), and make sure to explain your answers / motivate your choices.\n",
    "+ Source code, output graphs, derivations, etc., should be included in the notebook.\n",
    "+ Before you hand in your assignment, make sure all figures include legends, titles, and axis-labels as necessary. \n",
    "+ Hand-in: upload to Blackboard.\n",
    "+ Include name, student number, assignment (especially in filenames)\n",
    "+ When working in pairs only one of you should upload the assignment, and report the name of your partner in your filename.\n",
    "+ For problems or questions: use the BB discussion board or email the student assistants.\n",
    "\n",
    "This exercise is based upon material kindly provided by the Cognitive System Section, DTU Compute,\n",
    "http://cogsys.compute.dtu.dk. Any sale or commercial distribution is strictly forbidden."
   ]
  },
  {
   "cell_type": "markdown",
   "metadata": {},
   "source": [
    "## 3.1 Decision trees\n",
    "\n",
    "In this part of the exercise we will fit decision trees using the scikitlearn classifier\n",
    "`sklearn.tree.DecisionTreeClassifier`. As a splitting criterion, the function uses\n",
    "one of the following two impurity measures:\n",
    "\n",
    "\\begin{equation} \\textrm{gdi}(t) = -\\sum_{i=1}^C p(i|t)^2 \\quad \\text{       equivalent to Gini(t)} \\end{equation}   \n",
    "\n",
    "\\begin{equation}\n",
    "\\textrm{deviance}(t) = -2\\sum_{i=1}^C p(i|t) \\log p(i|t) \\quad \\text{equivalent to Entropy(t)} \n",
    "\\end{equation}\n",
    "\n",
    "We will analyze the wine data we have used previously. The wine data set has the following attributes, all of which are continuous: \n",
    "\n",
    "\n",
    "| #             | Attribute     | Unit  |\n",
    "| ------------- |:-------------| -----:|\n",
    "|1 | Fixed acidity (tartaric) | g/dm$^3$ |\n",
    "|2 | Volatile acidity (acetic) | g/dm$^3$ |\n",
    "|3 | Citric acid | g/dm$^3$ |\n",
    "|4 | Residual sugar | g/dm$^3$ |\n",
    "|5 | Chlorides | g/dm$^3$ |\n",
    "|6 | Free sulfur dioxide | mg/dm$^3$ |\n",
    "|7 | Total sulfur dioxide | mg/dm$^3$ |\n",
    "|8 | Density | g/cm$^3$ |\n",
    "|9 | pH | pH |\n",
    "|10 | Sulphates | g/dm$^3$ |\n",
    "|11 | Alcohol | % vol. | \n",
    "\n",
    "\n",
    "#### 3.1.1\n",
    "Load the wine data set `Data/wine.mat`. This contains the same data as used in the earlier assignment, but with outliers and the 12th attribute already removed. ** To make sure all data has the correct shape, type, or values that you expect, I strongly recommend making this assignment in the Spyder IDE and checking out the variable explorer. ** \n",
    "\n",
    "   ** hints: **   \n",
    "*The object in wine.mat is a dictionary. The attributes are stored in matrix $X$, the class in vector $y$. $y$ might be shaped as an array containing single element arrays. To flatten $y$, you can use `y.ravel()`. Attribute names and class names are stored in the attributeNames and classNames objects, which contain arrays, of which the first element contains the names. To get the names from those arrays, you can use list comprehension, e.g. `attributeNames = [array[0] for array in wine_data['attributeNames']` . For more on list comprehension, check http://www.secnetix.de/olli/Python/list_comprehensions.hawk *\n",
    "\n"
   ]
  },
  {
   "cell_type": "code",
   "execution_count": 4,
   "metadata": {
    "collapsed": true
   },
   "outputs": [],
   "source": [
    "import numpy as np\n",
    "from scipy.io import loadmat\n",
    "\n",
    "wine_data = loadmat('Data/wine.mat')\n",
    "\n",
    "#X = ...\n",
    "#y = ...\n",
    "#attributeNames = ...\n",
    "#classNames = ...\n",
    "X = wine_data['X']\n",
    "y = wine_data['y'].squeeze()\n",
    "#names = wine_data['attributeNames'].ravel().squeeze()\n",
    "\n",
    "attributeNames = [i[0] for i in wine_data['attributeNames'][0]]\n",
    "classNames = [j[0] for i in wine_data['classNames'] for j in i]"
   ]
  },
  {
   "cell_type": "markdown",
   "metadata": {},
   "source": [
    "#### 3.1.2\n",
    " (2 pts) Fit a decision tree to the wine data in order to estimate if the wine is red or white. Use the Gini (gdi) splitting criterion. Use `min_samples_split=100` for the stopping criterion. Explain what happens when you change the values of the parameter `min_samples_split`. After fitting the tree, visualize it with the tree_print function in `treeprint.py`. \n",
    "\n",
    "** hints: **   \n",
    "*Help documentation for the DecisionTreeClassifier function can be found at * http://scikit-learn.org/stable/modules/tree.html#classification  "
   ]
  },
  {
   "cell_type": "code",
   "execution_count": 2,
   "metadata": {},
   "outputs": [],
   "source": [
    "#help (tree.DecisionTreeClassifier)"
   ]
  },
  {
   "cell_type": "code",
   "execution_count": 6,
   "metadata": {
    "scrolled": false
   },
   "outputs": [
    {
     "ename": "IndexError",
     "evalue": "list index out of range",
     "output_type": "error",
     "traceback": [
      "\u001b[0;31m---------------------------------------------------------------------------\u001b[0m",
      "\u001b[0;31mIndexError\u001b[0m                                Traceback (most recent call last)",
      "\u001b[0;32m<ipython-input-6-95eed2f08bd7>\u001b[0m in \u001b[0;36m<module>\u001b[0;34m()\u001b[0m\n\u001b[1;32m      7\u001b[0m \u001b[0mmytree\u001b[0m\u001b[0;34m.\u001b[0m\u001b[0mfit\u001b[0m\u001b[0;34m(\u001b[0m\u001b[0mX\u001b[0m\u001b[0;34m,\u001b[0m\u001b[0my\u001b[0m\u001b[0;34m)\u001b[0m\u001b[0;34m\u001b[0m\u001b[0m\n\u001b[1;32m      8\u001b[0m \u001b[0;31m#tree_print(dtc, attributeNames, classNames)\u001b[0m\u001b[0;34m\u001b[0m\u001b[0;34m\u001b[0m\u001b[0m\n\u001b[0;32m----> 9\u001b[0;31m \u001b[0mtreeprint\u001b[0m\u001b[0;34m.\u001b[0m\u001b[0mtree_print\u001b[0m\u001b[0;34m(\u001b[0m\u001b[0mmytree\u001b[0m\u001b[0;34m,\u001b[0m\u001b[0mclassNames\u001b[0m\u001b[0;34m,\u001b[0m\u001b[0;34m[\u001b[0m\u001b[0;34m'red'\u001b[0m\u001b[0;34m,\u001b[0m \u001b[0;34m'white'\u001b[0m\u001b[0;34m]\u001b[0m \u001b[0;34m)\u001b[0m\u001b[0;34m\u001b[0m\u001b[0m\n\u001b[0m",
      "\u001b[0;32m/home/dd/Dropbox/Studium/MASTER/DataMining/Correct_ Assignment3/treeprint.pyc\u001b[0m in \u001b[0;36mtree_print\u001b[0;34m(clf, attributeNames, classNames)\u001b[0m\n\u001b[1;32m     28\u001b[0m     \u001b[0mclassNames\u001b[0m\u001b[0;34m:\u001b[0m \u001b[0mnames\u001b[0m \u001b[0;32mfor\u001b[0m \u001b[0mthe\u001b[0m \u001b[0mleafs\u001b[0m\u001b[0;34m\u001b[0m\u001b[0m\n\u001b[1;32m     29\u001b[0m     \"\"\"\n\u001b[0;32m---> 30\u001b[0;31m     \u001b[0mtlevel\u001b[0m \u001b[0;34m=\u001b[0m \u001b[0m_tree_rprint\u001b[0m\u001b[0;34m(\u001b[0m\u001b[0;34m''\u001b[0m\u001b[0;34m,\u001b[0m \u001b[0mclf\u001b[0m\u001b[0;34m,\u001b[0m \u001b[0mattributeNames\u001b[0m\u001b[0;34m,\u001b[0m \u001b[0mclassNames\u001b[0m\u001b[0;34m)\u001b[0m\u001b[0;34m\u001b[0m\u001b[0m\n\u001b[0m\u001b[1;32m     31\u001b[0m     \u001b[0;32mprint\u001b[0m\u001b[0;34m(\u001b[0m\u001b[0;34m'<'\u001b[0m\u001b[0;34m,\u001b[0m\u001b[0mend\u001b[0m\u001b[0;34m=\u001b[0m\u001b[0;34m''\u001b[0m\u001b[0;34m)\u001b[0m\u001b[0;34m\u001b[0m\u001b[0m\n\u001b[1;32m     32\u001b[0m     \u001b[0;32mfor\u001b[0m \u001b[0mi\u001b[0m \u001b[0;32min\u001b[0m \u001b[0mrange\u001b[0m\u001b[0;34m(\u001b[0m\u001b[0;36m5\u001b[0m\u001b[0;34m*\u001b[0m\u001b[0mtlevel\u001b[0m \u001b[0;34m-\u001b[0m \u001b[0;36m2\u001b[0m\u001b[0;34m)\u001b[0m\u001b[0;34m:\u001b[0m\u001b[0;34m\u001b[0m\u001b[0m\n",
      "\u001b[0;32m/home/dd/Dropbox/Studium/MASTER/DataMining/Correct_ Assignment3/treeprint.pyc\u001b[0m in \u001b[0;36m_tree_rprint\u001b[0;34m(kword, clf, features, labels, node_index, tlevel_index, parent, left)\u001b[0m\n\u001b[1;32m     61\u001b[0m     \u001b[0;32melse\u001b[0m\u001b[0;34m:\u001b[0m\u001b[0;34m\u001b[0m\u001b[0m\n\u001b[1;32m     62\u001b[0m         \u001b[0;31m# compute and print node label\u001b[0m\u001b[0;34m\u001b[0m\u001b[0;34m\u001b[0m\u001b[0m\n\u001b[0;32m---> 63\u001b[0;31m         \u001b[0mfeature\u001b[0m \u001b[0;34m=\u001b[0m \u001b[0mfeatures\u001b[0m\u001b[0;34m[\u001b[0m\u001b[0mclf\u001b[0m\u001b[0;34m.\u001b[0m\u001b[0mtree_\u001b[0m\u001b[0;34m.\u001b[0m\u001b[0mfeature\u001b[0m\u001b[0;34m[\u001b[0m\u001b[0mnode_index\u001b[0m\u001b[0;34m]\u001b[0m\u001b[0;34m]\u001b[0m\u001b[0;34m\u001b[0m\u001b[0m\n\u001b[0m\u001b[1;32m     64\u001b[0m         \u001b[0mthreshold\u001b[0m \u001b[0;34m=\u001b[0m \u001b[0mclf\u001b[0m\u001b[0;34m.\u001b[0m\u001b[0mtree_\u001b[0m\u001b[0;34m.\u001b[0m\u001b[0mthreshold\u001b[0m\u001b[0;34m[\u001b[0m\u001b[0mnode_index\u001b[0m\u001b[0;34m]\u001b[0m\u001b[0;34m\u001b[0m\u001b[0m\n\u001b[1;32m     65\u001b[0m         \u001b[0;31m# recurse down the children\u001b[0m\u001b[0;34m\u001b[0m\u001b[0;34m\u001b[0m\u001b[0m\n",
      "\u001b[0;31mIndexError\u001b[0m: list index out of range"
     ]
    }
   ],
   "source": [
    "from sklearn import tree\n",
    "import treeprint\n",
    "# Fit tree classifier, Gini split criterion, pruning enabled\n",
    "#dtc = ....     #create tree\n",
    "#dtc = ....     #fit on data\n",
    "mytree = tree.DecisionTreeClassifier(criterion = 'gini',min_samples_split=100)\n",
    "mytree.fit(X,y)\n",
    "#tree_print(dtc, attributeNames, classNames)\n",
    "treeprint.tree_print(mytree,classNames,['red', 'white'] )"
   ]
  },
  {
   "cell_type": "markdown",
   "metadata": {},
   "source": [
    "#### 3.1.3\n",
    "\n",
    "(0.5 pts) Show that a wine with the following attribute values would be classified as white by the tree fitted in 3.1.2.\n",
    "\n",
    "| #             | Attribute     | Value  |\n",
    "| ------------- |:-------------| -----:|\n",
    "|1 | Fixed acidity (tartaric) | 6.9 g/dm$^3$ |\n",
    "|2 | Volatile acidity (acetic) | 1.09 g/dm$^3$ |\n",
    "|3 | Citric acid | 0.06 g/dm$^3$ |\n",
    "|4 | Residual sugar | 2.1 g/dm$^3$ |\n",
    "|5 | Chlorides | 0.0061 g/dm$^3$ |\n",
    "|6 | Free sulfur dioxide | 12 mg/dm$^3$ |\n",
    "|7 | Total sulfur dioxide | 31 mg/dm$^3$ |\n",
    "|8 | Density | 0.99 g/cm$^3$ |\n",
    "|9 | pH | 3.5 |\n",
    "|10 | Sulphates | 0.64 g/dm$^3$ |\n",
    "|11 | Alcohol | 12 % vol. | \n",
    "\n",
    "** hints: **\n",
    "*If you don't know how to classify input values with a tree, see the help documentation for the DecisionTreeClassifier function. *"
   ]
  },
  {
   "cell_type": "code",
   "execution_count": 25,
   "metadata": {},
   "outputs": [
    {
     "data": {
      "text/plain": [
       "[u'Red', u'White']"
      ]
     },
     "execution_count": 25,
     "metadata": {},
     "output_type": "execute_result"
    }
   ],
   "source": [
    "classNames"
   ]
  },
  {
   "cell_type": "code",
   "execution_count": 24,
   "metadata": {},
   "outputs": [
    {
     "data": {
      "text/plain": [
       "u'White'"
      ]
     },
     "execution_count": 24,
     "metadata": {},
     "output_type": "execute_result"
    }
   ],
   "source": [
    "#x = ...\n",
    "#x_class = ...  # 'white'\n",
    "x = np.mat([6.9, 1.09, .06, 2.1, .0061, 12, 31, .99, 3.5, .64, 12])\n",
    "x_class = classNames[mytree.predict(x)[0]]   # 'white'\n",
    "x_class"
   ]
  },
  {
   "cell_type": "markdown",
   "metadata": {},
   "source": [
    "#### 3.1.4\n",
    "(1 pts) Classify all the wines in the wine data set. What percentage of the wine data is classified correctly by the tree?"
   ]
  },
  {
   "cell_type": "code",
   "execution_count": 68,
   "metadata": {},
   "outputs": [
    {
     "data": {
      "text/plain": [
       "0.98683375634517767"
      ]
     },
     "execution_count": 68,
     "metadata": {},
     "output_type": "execute_result"
    }
   ],
   "source": []
  },
  {
   "cell_type": "code",
   "execution_count": 69,
   "metadata": {},
   "outputs": [
    {
     "data": {
      "text/plain": [
       "0.98683375634517767"
      ]
     },
     "execution_count": 69,
     "metadata": {},
     "output_type": "execute_result"
    }
   ],
   "source": [
    "#accuracy = ...\n",
    "\n",
    "y_hat = mytree.predict(X)\n",
    "accuracy = np.mean(y_hat == y) # 98.68%\n",
    "accuracy\n",
    "#write your code here"
   ]
  },
  {
   "cell_type": "markdown",
   "metadata": {},
   "source": [
    "## 3.2 Decision tree pruning using cross-validation\n",
    "\n",
    "In this exercise we will use cross-validation to prune a decision tree. When applying cross-validation the observed data is split into training and test sets, i.e., `X_train`, `y_train` and `X_test` and `y_test`. We train the model on the training data and evaluate the performance of the trained model on the test data.\n",
    "\n",
    "#### 3.2.1\n",
    "(2 pts) Load the wine data set `Data/wine.mat` using the `loadmat()` function. Divide the data into a training and a test data set. Fit a decision tree to the training data using the Gini (`gdi`) splitting criterion.\n",
    "\n",
    "Now, we want to find optimally pruned decision tree, by modifying its maximum depth. For different values of parameter `depth` (from 2 to 20), first fit the decision tree, and then compute the classification error on the training and test set (this is called holdout cross-validation). Plot the training and test classification error as a function of the tree depth in the same figure. This will show us what the optimal pruning depth is for the training set, but also how well this generalizes to a test set. \n",
    "\n",
    "\n",
    "** hints: **  \n",
    "*Take a look at the module `sklearn.model_selection` and see how it can be used to partition the data into a training and a test set (holdout validation, `train_test_split()` function). Note that the package also contains functions to partition data for K-fold cross-validation. Some of the functions can ensure that both training and test sets have roughly the same class proportions.* \n",
    "\n",
    "What appears to be the optimal tree depth? Do you get the same result when you run your code again, generating a new random split between training and test data?"
   ]
  },
  {
   "cell_type": "code",
   "execution_count": 87,
   "metadata": {},
   "outputs": [
    {
     "name": "stdout",
     "output_type": "stream",
     "text": [
      "[1, 2, 3]\n"
     ]
    }
   ],
   "source": [
    "a = np.array([1,2,3])\n",
    "b = [s for s in a if s<4]\n",
    "print b"
   ]
  },
  {
   "cell_type": "code",
   "execution_count": 12,
   "metadata": {},
   "outputs": [
    {
     "name": "stdout",
     "output_type": "stream",
     "text": [
      "2\n",
      "3\n",
      "4\n",
      "5\n",
      "6\n",
      "7\n",
      "8\n",
      "9\n",
      "10\n",
      "11\n",
      "12\n",
      "13\n",
      "14\n",
      "15\n",
      "16\n",
      "17\n",
      "18\n",
      "19\n",
      "20\n"
     ]
    },
    {
     "data": {
      "image/png": "[encoded data removed]",
      "text/plain": [
       "<matplotlib.figure.Figure at 0x7f20a943b210>"
      ]
     },
     "metadata": {},
     "output_type": "display_data"
    }
   ],
   "source": [
    "from scipy.io import loadmat\n",
    "from sklearn import model_selection, tree\n",
    "\n",
    "# Load Matlab data file and extract variables of interest\n",
    "#wine_data = loadmat('../Data/wine.mat')\n",
    "#X = ...\n",
    "#y = ...\n",
    "\n",
    "#attributeNames = ...\n",
    "#classNames = ...\n",
    "\n",
    "# Simple holdout-set crossvalidation\n",
    "#%% 3.2.1\n",
    "from sklearn import model_selection, tree\n",
    "import matplotlib.pyplot as plt\n",
    "\n",
    "test_proportion = 0.33\n",
    "X_train, X_test, y_train, y_test = model_selection.train_test_split(X,y,test_size=test_proportion)\n",
    "levels = range(2,21)\n",
    "error = np.zeros((2,len(levels)))\n",
    "\n",
    "for t in levels:\n",
    "    print(t)\n",
    "    dtc = tree.DecisionTreeClassifier(criterion='gini', max_depth=t)\n",
    "    dtc = dtc.fit(X_train,y_train)\n",
    "    \n",
    "    y_est_test = dtc.predict(X_test)\n",
    "    y_est_train = dtc.predict(X_train)\n",
    "    \n",
    "    train_class_error = 1-np.mean(y_est_test == y_test)\n",
    "    test_class_error = 1-np.mean(y_est_train == y_train)\n",
    "    error[0,t-2], error[1,t-2]= train_class_error, test_class_error\n",
    "\n",
    "plt.plot(levels, error[0,:])\n",
    "plt.plot(levels, error[1,:])\n",
    "plt.xlabel('Model complexity (max tree depth)')\n",
    "plt.ylabel('Error (misclassification rate)')\n",
    "plt.legend(['Error_train','Error_test'])\n",
    "    \n",
    "plt.show()  \n",
    "\n",
    "#write your code here"
   ]
  },
  {
   "cell_type": "markdown",
   "metadata": {},
   "source": [
    "#### 3.2.2\n",
    "(1.5 pts) Repeat the exercise above, using 10-fold cross-validation. K-fold cross-validation works by splitting X into K partitions of equal length. Then in each fold, you choose K-1 partitions as the training set and the remaining partition as the test set. Every partition gets a turn being a test set. For a very nice simple explanation of how (and why) K-fold works, check out http://www.dummies.com/programming/big-data/data-science/resorting-cross-validation-machine-learning/\n",
    "\n",
    "\n",
    "For each fold, fit a decision tree on the training set and evaluate its performance on the test set. Finally, compute the average classification errors on the test- and training sets across the 10 cross-validation folds and plot them as a function of the tree depth.\n",
    "\n",
    "** hints: **\n",
    "*This time the `KFold()` function from the module `sklearn.model_selection` can be used to partition the data into the 10 training and test partitions. Check out http://scikit-learn.org/stable/modules/cross_validation.html#k-fold for an example of how to acces the indices for the training set and the test set in each fold. Those indices can then be used to create the training and test set, e.g. `X_train = X[train_indices]`*\n",
    " \n",
    "\n",
    "What appears to be the optimal tree depth? Do you get the same result when you run your code again, generating a new random split between training and test data? How about 100-fold cross-validation?\n",
    "\n"
   ]
  },
  {
   "cell_type": "code",
   "execution_count": 13,
   "metadata": {},
   "outputs": [
    {
     "name": "stdout",
     "output_type": "stream",
     "text": [
      "2\n",
      "3\n",
      "4\n",
      "5\n",
      "6\n",
      "7\n",
      "8\n",
      "9\n",
      "10\n",
      "11\n",
      "12\n",
      "13\n",
      "14\n",
      "15\n",
      "16\n",
      "17\n",
      "18\n",
      "19\n",
      "20\n",
      "2\n",
      "3\n",
      "4\n",
      "5\n",
      "6\n",
      "7\n",
      "8\n",
      "9\n",
      "10\n",
      "11\n",
      "12\n",
      "13\n",
      "14\n",
      "15\n",
      "16\n",
      "17\n",
      "18\n",
      "19\n",
      "20\n",
      "2\n",
      "3\n",
      "4\n",
      "5\n",
      "6\n",
      "7\n",
      "8\n",
      "9\n",
      "10\n",
      "11\n",
      "12\n",
      "13\n",
      "14\n",
      "15\n",
      "16\n",
      "17\n",
      "18\n",
      "19\n",
      "20\n",
      "2\n",
      "3\n",
      "4\n",
      "5\n",
      "6\n",
      "7\n",
      "8\n",
      "9\n",
      "10\n",
      "11\n",
      "12\n",
      "13\n",
      "14\n",
      "15\n",
      "16\n",
      "17\n",
      "18\n",
      "19\n",
      "20\n",
      "2\n",
      "3\n",
      "4\n",
      "5\n",
      "6\n",
      "7\n",
      "8\n",
      "9\n",
      "10\n",
      "11\n",
      "12\n",
      "13\n",
      "14\n",
      "15\n",
      "16\n",
      "17\n",
      "18\n",
      "19\n",
      "20\n",
      "2\n",
      "3\n",
      "4\n",
      "5\n",
      "6\n",
      "7\n",
      "8\n",
      "9\n",
      "10\n",
      "11\n",
      "12\n",
      "13\n",
      "14\n",
      "15\n",
      "16\n",
      "17\n",
      "18\n",
      "19\n",
      "20\n",
      "2\n",
      "3\n",
      "4\n",
      "5\n",
      "6\n",
      "7\n",
      "8\n",
      "9\n",
      "10\n",
      "11\n",
      "12\n",
      "13\n",
      "14\n",
      "15\n",
      "16\n",
      "17\n",
      "18\n",
      "19\n",
      "20\n",
      "2\n",
      "3\n",
      "4\n",
      "5\n",
      "6\n",
      "7\n",
      "8\n",
      "9\n",
      "10\n",
      "11\n",
      "12\n",
      "13\n",
      "14\n",
      "15\n",
      "16\n",
      "17\n",
      "18\n",
      "19\n",
      "20\n",
      "2\n",
      "3\n",
      "4\n",
      "5\n",
      "6\n",
      "7\n",
      "8\n",
      "9\n",
      "10\n",
      "11\n",
      "12\n",
      "13\n",
      "14\n",
      "15\n",
      "16\n",
      "17\n",
      "18\n",
      "19\n",
      "20\n",
      "2\n",
      "3\n",
      "4\n",
      "5\n",
      "6\n",
      "7\n",
      "8\n",
      "9\n",
      "10\n",
      "11\n",
      "12\n",
      "13\n",
      "14\n",
      "15\n",
      "16\n",
      "17\n",
      "18\n",
      "19\n",
      "20\n"
     ]
    },
    {
     "data": {
      "image/png": "[encoded data removed]",
      "text/plain": [
       "<matplotlib.figure.Figure at 0x7f20d8d5c190>"
      ]
     },
     "metadata": {},
     "output_type": "display_data"
    }
   ],
   "source": [
    "#%% 3.2.2\n",
    "K = 10\n",
    "CV = model_selection.KFold(K,shuffle=True)\n",
    "\n",
    "error_train = np.zeros((len(levels),10))\n",
    "error_test = np.zeros((len(levels),10))\n",
    "k=0\n",
    "for train_index, test_index in CV.split(X):\n",
    "    X_train, y_train = X[train_index], y[train_index]\n",
    "    X_test, y_test = X[test_index], y[test_index]\n",
    "    \n",
    "    for t in levels:\n",
    "        print(t)\n",
    "        dtc = tree.DecisionTreeClassifier(criterion='gini', max_depth=t)\n",
    "        dtc = dtc.fit(X_train,y_train)\n",
    "        \n",
    "        y_est_test = dtc.predict(X_test)\n",
    "        y_est_train = dtc.predict(X_train)\n",
    "        \n",
    "        train_class_error = 1-np.mean(y_est_test == y_test)\n",
    "        test_class_error = 1-np.mean(y_est_train == y_train)\n",
    "        error_train[t-2,k], error_test[t-2,k]= train_class_error, test_class_error\n",
    "    k=k+1\n",
    "\n",
    "\n",
    "plt.plot(levels, error_train.mean(1))\n",
    "plt.plot(levels, error_test.mean(1))\n",
    "plt.xlabel('Model complexity (max tree depth)')\n",
    "plt.ylabel('Error (misclassification rate, CV K={0})'.format(K))\n",
    "plt.legend(['Error_train','Error_test'])\n",
    "    \n",
    "plt.show()"
   ]
  },
  {
   "cell_type": "markdown",
   "metadata": {},
   "source": [
    " ## 3.3 ROC curves, AUC scores, and the sign test}\n",
    "\n",
    "In this exercise we will use ROC curves and the sign test to compare classifiers. Study the lecture slides and the paper 'ROC Graphs: Notes and Practical Considerations for Researchers' by Tom Fawcett included with the homework assignment (ROC101.pdf). It describes all you need to know (and much, much more..) about ROC curves. The method explained for computing the area under the curve is unnecessarily complicated. A simpler formula is:\n",
    "$$\n",
    "    \\mbox{AUC} = {1 \\over m n} \\sum_{i=1}^m \\sum_{j=1}^n \\mathbf{\\large 1}_{p_i > p_j} \\: .\n",
    "   $$\n",
    "Here $i$ runs over all $m$ data points with true label 1, and $j$ runs over all $n$ data points with true label $0$; $p_i$ and $p_j$ denote the probability score assigned by the classifier to data point $i$ and $j$, respectively. $\\mathbf{\\large 1}$ is the indicator function: it outputs $1$ if the condition (here $p_i > p_j$) is satisfied and $0$ otherwise. Simply put: this formula computes how often the probability of a data point with true label 1 is higher than the probabilities of data points with true label 0. \n",
    "    \n",
    "To make sure you understand how ROC works, you can try to make an ROC curve and calculate the AUC (on paper) with the following data:\n",
    "\n",
    "`\n",
    "labels = [0,0,0,1,0,1,1,0,1,1]\n",
    "classifier_probs = [0.1,0.2,0.3,0.4,0.5,0.6,0.7,0.8,0.9,0.99]\n",
    "`\n",
    "    \n",
    "\n",
    "#### 3.3.1\n",
    "  Load the file `Data/classprobs.xls`. The first column gives the true class label (either 0 or 1). The second and third column give the probabilistic scores for two different classifiers. The higher this probability, the more certain the classifier is that the example belongs to class 1 (instead of class 0).\n",
    "\n",
    "** hints: **\n",
    "*To get a column (in list form) from a file opened with xlrd, you can use the `col_values()` function on that file, e.g. `col0 = doc.col_values(0)`.*\n"
   ]
  },
  {
   "cell_type": "code",
   "execution_count": 14,
   "metadata": {},
   "outputs": [
    {
     "data": {
      "text/plain": [
       "array([ 0.887   ,  0.13591 ,  0.55549 ,  0.23876 ,  0.14542 ,  0.81876 ,\n",
       "        0.50594 ,  0.93954 ,  0.22339 ,  0.31219 ,  0.19486 ,  0.61471 ,\n",
       "        0.63854 ,  0.29924 ,  0.16546 ,  0.72124 ,  0.1088  ,  0.48676 ,\n",
       "        0.94156 ,  0.2968  ,  0.24267 ,  0.17043 ,  0.015464,  0.30852 ,\n",
       "        0.11212 ,  0.29639 ,  0.97275 ,  0.58501 ,  0.12244 ,  0.87557 ,\n",
       "        0.76142 ,  0.14132 ,  0.86004 ,  0.13915 ,  0.18889 ,  0.96075 ,\n",
       "        0.83076 ,  0.089368,  0.68199 ,  0.85489 ,  0.56139 ,  0.93078 ,\n",
       "        0.75955 ,  0.61855 ,  0.092059,  0.67612 ,  0.63252 ,  0.31297 ,\n",
       "        0.82238 ,  0.51416 ,  0.99809 ,  0.72686 ,  0.55046 ,  0.25546 ,\n",
       "        0.94669 ,  0.27347 ,  0.31107 ,  0.24862 ,  0.50734 ,  0.43013 ,\n",
       "        0.52135 ,  0.85277 ,  0.68814 ,  0.034719,  0.30511 ,  0.84431 ,\n",
       "        0.082462,  0.018232,  0.51123 ,  0.36436 ,  0.15529 ,  0.74259 ,\n",
       "        0.23423 ,  0.5569  ,  0.98439 ,  0.66793 ,  0.64618 ,  0.33115 ,\n",
       "        0.65452 ,  0.74047 ,  0.67109 ,  0.47944 ,  0.61722 ,  0.58154 ,\n",
       "        0.18569 ,  0.42642 ,  0.34196 ,  0.19386 ,  0.71375 ,  0.70223 ,\n",
       "        0.034833,  0.28422 ,  0.78385 ,  0.93666 ,  0.83752 ,  0.11601 ,\n",
       "        0.85762 ,  0.3934  ,  0.21118 ,  0.60127 ,  0.87517 ,  0.27786 ,\n",
       "        0.26974 ,  0.014577,  0.66804 ,  0.83725 ,  0.89512 ,  0.18806 ])"
      ]
     },
     "execution_count": 14,
     "metadata": {},
     "output_type": "execute_result"
    }
   ],
   "source": [
    "import numpy as np\n",
    "import xlrd\n",
    "\n",
    "doc = xlrd.open_workbook('Data/classprobs.xls').sheet_by_index(0)\n",
    "\n",
    "#%% 3.3.1\n",
    "import xlrd\n",
    "\n",
    "doc = xlrd.open_workbook('Data/classprobs.xls').sheet_by_index(0)\n",
    "true_class = np.array(doc.col_values(0))\n",
    "pred1 = np.array(doc.col_values(1))\n",
    "pred2 = np.array(doc.col_values(2))\n",
    "\n",
    "#true_class = ...\n",
    "#pred1 = ...\n",
    "#pred2 = ...\n",
    "pred1"
   ]
  },
  {
   "cell_type": "markdown",
   "metadata": {},
   "source": [
    "#### 3.3.2 \n",
    "(1 pts) Calculate the ROC curves for the classifiers and plot them. Also plot a dashed line on the diagonal to represent random guessing in the same figure. Interpret the obtained results. Do both classifiers perform better than random guessing?\n",
    "\n",
    "** hints: **  \n",
    "*The function `sklearn.metrics.roc_curve` can be used for computing the ROC. *\n",
    " "
   ]
  },
  {
   "cell_type": "code",
   "execution_count": 15,
   "metadata": {},
   "outputs": [
    {
     "data": {
      "image/png": "[encoded data removed]",
      "text/plain": [
       "<matplotlib.figure.Figure at 0x7f20d8012ed0>"
      ]
     },
     "metadata": {},
     "output_type": "display_data"
    }
   ],
   "source": [
    "#%% 3.3.2\n",
    "from sklearn.metrics import roc_curve\n",
    "\n",
    "FP1, TP1, thresh1 = roc_curve(true_class, pred1)\n",
    "FP2, TP2, thresh2 = roc_curve(true_class, pred2)\n",
    "\n",
    "plt.plot(FP1, TP1, label='Classifier 1')\n",
    "plt.plot(FP2, TP2, label='Classifier 2')\n",
    "\n",
    "plt.plot([0, 1], [0, 1], 'k--')\n",
    "plt.xlim([0.0, 1.0])\n",
    "plt.ylim([0.0, 1.0])\n",
    "plt.xlabel('False Positive Rate')\n",
    "plt.ylabel('True Positive Rate')\n",
    "plt.title('Receiver operating characteristic example')\n",
    "plt.legend(loc=\"lower right\")\n",
    "plt.show()"
   ]
  },
  {
   "cell_type": "markdown",
   "metadata": {},
   "source": [
    "#### 3.3.3\n",
    "(1 pts) Compute the AUC scores (area under the curve) of both classifiers using the formula given above. Do the AUC scores indicate that the classifiers are performing better than this baseline?\n",
    "\n",
    "\n",
    "#### 3.3.4 \n",
    "(0.5 pts) Using a threshold of 0.5, translate the probability scores to predicted class labels, and compute the accuracy for each of the classifiers.\n",
    "\n",
    "#### 3.3.5\n",
    "(0.5 pts) Create the 2x2 table of wrong and correct classifications by the first and the second classifier, like in the lecture slides (lecture on model evaluation, part on the sign test). Perform a sign test to test whether the performance of the two classifiers is significantly different at a significance level of 0.05. **If you are not familiar with sign testing, you can read the example provided below.**\n",
    "\n",
    "\n",
    "** hints: **  \n",
    "*As explained in the lecture slides, the sign test is a binomial test on the lower-left ($N_{1<2}$) and upper-right ($N_{1>2}$) elements of the cross table. Unlike in the lecture slides, here you need to perform a two-sided test: $$\\textrm{p-value} = P(W \\leq \\min(N_{1<2},N_{1>2}) \\textrm{ or } W \\geq  \\max(N_{1<2},N_{1>2})$$\n",
    "The function `scipy.stats.binom.cdf` can be used to compute the cumulative density of the binomial distribution.\n",
    "For more information on the sign test, see the included paper by Salzberg (signtest.pdf, in particular section 3.1).*\n",
    " "
   ]
  },
  {
   "cell_type": "code",
   "execution_count": 18,
   "metadata": {},
   "outputs": [
    {
     "name": "stdout",
     "output_type": "stream",
     "text": [
      "0.00293505564332\n",
      "8\n",
      "26\n"
     ]
    }
   ],
   "source": [
    "#%% 3.3.3\n",
    "TC1 = true_class==1\n",
    "TC0 = true_class==0\n",
    "\n",
    "auc1 = np.mean([np.mean(pred1[TC1] > i) for i in pred1[TC0]])  # 0.956\n",
    "auc2 = np.mean([np.mean(pred2[TC1] > i) for i in pred2[TC0]])  # 0.765\n",
    "\n",
    "#%% 3.3.4 With threshold of 0.5\n",
    "\n",
    "class1 = np.mean((pred1>0.5) == true_class) # 0.861\n",
    "class2 = np.mean((pred2>0.5) == true_class) # 0.694\n",
    "\n",
    "#%% 3.3.5\n",
    "\n",
    "#Number of times 2 is right and 1 is wrong\n",
    "N1s2 = sum( ((pred2>0.5) == true_class) & ((pred1>0.5) != true_class)) \n",
    "\n",
    "#Number of times 1 is right and 2 is wrong\n",
    "N2s1 = sum( ((pred2>0.5) != true_class) & ((pred1>0.5) == true_class))\n",
    "\n",
    "#total number of differences\n",
    "N = N1s2 + N2s1\n",
    "\n",
    "#how big is the probability of observing >=n times that one classifier is better than the other,\n",
    "#in N samples, while you expected to observe that one classifier is better (N/2) times?\n",
    "from scipy.stats import binom\n",
    "pval = binom.cdf(min(N1s2,N2s1), N, 0.5) + (1 - binom.cdf(max(N1s2,N2s1)-1, N, 0.5))\n",
    "print pval\n",
    "\n",
    "print N1s2\n",
    "print N2s1"
   ]
  },
  {
   "cell_type": "markdown",
   "metadata": {},
   "source": [
    "## Example two-sided sign test\n",
    "\n",
    "Imagine you have a lucky coin, that you are certain does not result in heads 50% of the times you flip it. However, you friend (lets call him *zero-hypothesis*) claims that your coin is just like his random coin. To verify whether this is true, you decide to compare the performance (you are a scientist after all) of your lucky coin resulting in heads to the performance of the random coin resulting in heads with a sign test. How do you do this?\n",
    "\n",
    "First, you collect data. Assume you both used your coin during 23 bets. It was determined that if one of you flipped head, you won the bet. If the other person flipped head, you lost the bet. If you both got the same outcome, neither of you won. 1 stands for head, and 0 for tails. These were your results:"
   ]
  },
  {
   "cell_type": "code",
   "execution_count": 98,
   "metadata": {},
   "outputs": [
    {
     "name": "stdout",
     "output_type": "stream",
     "text": [
      "Help on method cdf in module scipy.stats._distn_infrastructure:\n",
      "\n",
      "cdf(self, k, *args, **kwds) method of scipy.stats._discrete_distns.binom_gen instance\n",
      "    Cumulative distribution function of the given RV.\n",
      "    \n",
      "    Parameters\n",
      "    ----------\n",
      "    k : array_like, int\n",
      "        Quantiles.\n",
      "    arg1, arg2, arg3,... : array_like\n",
      "        The shape parameter(s) for the distribution (see docstring of the\n",
      "        instance object for more information).\n",
      "    loc : array_like, optional\n",
      "        Location parameter (default=0).\n",
      "    \n",
      "    Returns\n",
      "    -------\n",
      "    cdf : ndarray\n",
      "        Cumulative distribution function evaluated at `k`.\n",
      "\n"
     ]
    }
   ],
   "source": [
    "help(binom.cdf)"
   ]
  },
  {
   "cell_type": "code",
   "execution_count": 96,
   "metadata": {
    "collapsed": true
   },
   "outputs": [],
   "source": [
    "import numpy as np\n",
    "from scipy.stats import binom\n",
    "import matplotlib.pyplot as plt\n",
    "\n",
    "#results\n",
    "lucky_coin = np.array([1,1,1,0,1,1,1,1,1,0,1,1,1,1,0,1,1,0,1,1,1,0,1])\n",
    "random_coin= np.array([0,1,0,1,0,1,0,0,0,1,0,1,0,1,1,1,1,0,0,0,0,0,0])\n"
   ]
  },
  {
   "cell_type": "markdown",
   "metadata": {},
   "source": [
    "Now you calculate how often in any pair of outcomes one coin *won*, i.e. one coin flipped to head while the other flipped to tails."
   ]
  },
  {
   "cell_type": "code",
   "execution_count": 38,
   "metadata": {},
   "outputs": [
    {
     "name": "stdout",
     "output_type": "stream",
     "text": [
      "The lucky coin won 12 times, while the random won 3 times.\n"
     ]
    }
   ],
   "source": [
    "N_l = sum((lucky_coin == 1) & (random_coin == 0)) #how often your lucky coin won\n",
    "N_r = sum((lucky_coin == 0) & (random_coin == 1)) #how often the random coin won\n",
    "N = N_l + N_r #how often one coin was a winner\n",
    "print('The lucky coin won {} times, while the random won {} times.'.format(N_l,N_r))"
   ]
  },
  {
   "cell_type": "markdown",
   "metadata": {},
   "source": [
    "You observed 15 times that one coin won. If both coins resulted in heads 50% of the time, like *zero-hypothesis* stated, you'd expect that both coins have 50% chance of being the winner. So the probability distributions for both N_l and N_r should look something like this:"
   ]
  },
  {
   "cell_type": "code",
   "execution_count": 39,
   "metadata": {},
   "outputs": [
    {
     "data": {
      "image/png": "[encoded data removed]",
      "text/plain": [
       "<matplotlib.figure.Figure at 0x7fc8bb944fd0>"
      ]
     },
     "metadata": {},
     "output_type": "display_data"
    }
   ],
   "source": [
    "b = binom(N,0.5) #N=observations of inequality, p=prob of one coin being better\n",
    "plt.plot(b.pmf(range(N+1)), '--o',label = 'Probability density')\n",
    "plt.plot(b.cdf(range(N+1)), '--o',label = 'Cumulative distribution')\n",
    "plt.legend()\n",
    "plt.xlabel('Amount of times one coin is better than the other')\n",
    "plt.ylabel('Probability')\n",
    "plt.title('Distribution according to H0')\n",
    "plt.show()"
   ]
  },
  {
   "cell_type": "markdown",
   "metadata": {},
   "source": [
    "(Ofcourse this is a discrete probability function, so you're not interested in values between integers.)\n",
    "\n",
    "As you can see, according to *zero-hypothesis*, 7 and 8 are the most likely values for both N_l and N_r. But this is not what you observed in your data. To conclude that *H0* is false, you need to show that your outcome is very unlikely under the assumption that *H0* is true: the values you observed are so extreme that these values or more extreme values occur less than 5% of the time (*p-value < 0.05*). So how unlikely is it that one coin is better 12 times or more, and the other is better 3 times or less?\n",
    "\n",
    "It's the sum of the values of the probability density function (pdf or pmf in the python doc) at  0,1,2 and 3, plus the sum of the values of the pdf at 12,13,14 and 15. \n",
    "\n",
    "This is equal to the value of the cumulative distribution function (cdf) at 3, plus 1 minus the value of cdf at 11 (since `1-cdf(11)` represents the probability of observing 12 or bigger)."
   ]
  },
  {
   "cell_type": "code",
   "execution_count": 1,
   "metadata": {},
   "outputs": [
    {
     "ename": "NameError",
     "evalue": "name 'b' is not defined",
     "output_type": "error",
     "traceback": [
      "\u001b[0;31m---------------------------------------------------------------------------\u001b[0m",
      "\u001b[0;31mNameError\u001b[0m                                 Traceback (most recent call last)",
      "\u001b[0;32m<ipython-input-1-459ccf9203c8>\u001b[0m in \u001b[0;36m<module>\u001b[0;34m()\u001b[0m\n\u001b[0;32m----> 1\u001b[0;31m \u001b[0mp_value\u001b[0m \u001b[0;34m=\u001b[0m \u001b[0mb\u001b[0m\u001b[0;34m.\u001b[0m\u001b[0mcdf\u001b[0m\u001b[0;34m(\u001b[0m\u001b[0mmin\u001b[0m\u001b[0;34m(\u001b[0m\u001b[0mN_r\u001b[0m\u001b[0;34m,\u001b[0m\u001b[0mN_l\u001b[0m\u001b[0;34m)\u001b[0m\u001b[0;34m)\u001b[0m \u001b[0;34m+\u001b[0m \u001b[0;34m(\u001b[0m\u001b[0;36m1\u001b[0m\u001b[0;34m-\u001b[0m\u001b[0mb\u001b[0m\u001b[0;34m.\u001b[0m\u001b[0mcdf\u001b[0m\u001b[0;34m(\u001b[0m\u001b[0mmax\u001b[0m\u001b[0;34m(\u001b[0m\u001b[0mN_r\u001b[0m\u001b[0;34m,\u001b[0m\u001b[0mN_l\u001b[0m\u001b[0;34m)\u001b[0m\u001b[0;34m-\u001b[0m\u001b[0;36m1\u001b[0m\u001b[0;34m)\u001b[0m\u001b[0;34m)\u001b[0m\u001b[0;34m\u001b[0m\u001b[0m\n\u001b[0m\u001b[1;32m      2\u001b[0m \u001b[0;32mprint\u001b[0m\u001b[0;34m(\u001b[0m\u001b[0;34m'The p-value is {:.3f}'\u001b[0m\u001b[0;34m.\u001b[0m\u001b[0mformat\u001b[0m\u001b[0;34m(\u001b[0m\u001b[0mp_value\u001b[0m\u001b[0;34m)\u001b[0m\u001b[0;34m)\u001b[0m\u001b[0;34m\u001b[0m\u001b[0m\n",
      "\u001b[0;31mNameError\u001b[0m: name 'b' is not defined"
     ]
    }
   ],
   "source": [
    "p_value = b.cdf(min(N_r,N_l)) + (1-b.cdf(max(N_r,N_l)-1))\n",
    "print('The p-value is {:.3f}'.format(p_value))"
   ]
  },
  {
   "cell_type": "markdown",
   "metadata": {},
   "source": [
    "So your observations are very unlikely if *zero-hypothesis* is right. By statistical theory, you can now say that you have significant reason to reject their opinion. Now the hardest part of statistics: convincing your non-scientist friends."
   ]
  }
 ],
 "metadata": {
  "anaconda-cloud": {},
  "kernelspec": {
   "display_name": "Python 2",
   "language": "python",
   "name": "python2"
  },
  "language_info": {
   "codemirror_mode": {
    "name": "ipython",
    "version": 2
   },
   "file_extension": ".py",
   "mimetype": "text/x-python",
   "name": "python",
   "nbconvert_exporter": "python",
   "pygments_lexer": "ipython2",
   "version": "2.7.12"
  }
 },
 "nbformat": 4,
 "nbformat_minor": 1
}
