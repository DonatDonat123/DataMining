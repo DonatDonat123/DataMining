{
 "cells": [
  {
   "cell_type": "markdown",
   "metadata": {},
   "source": [
    "# Assignment 5: Association mining\n",
    "\n",
    "## Objective of this assignment\n",
    "The overall objective is to understand how frequent itemsets can be extracted by\n",
    "the Apriori algorithm and be able to calculate and interpret association rules in terms of support and confidence.\n",
    "\n",
    "## ** Important: ** When handing in your homework:\n",
    "+ Hand in the notebook (and nothing else) named as follows: StudentName1_snumber_StudentName2_snumber.ipynb\n",
    "+ Provide clear and complete answers to the questions below under a separate header (not hidden somewhere in your source code), and make sure to explain your answers / motivate your choices. Add Markdown cells where necessary.\n",
    "+ Source code, output graphs, derivations, etc., should be included in the notebook.\n",
    "+ Hand-in: upload to Blackboard.\n",
    "+ Include name, student number, assignment (especially in filenames)!\n",
    "+ When working in pairs only one of you should upload the assignment, and report the name of your partner in your filename.\n",
    "+ For problems or questions: use the BB discussion board or email the student assistants.\n",
    "\n",
    "\n",
    "## Advised Reading and Exercise Material\n",
    "**The following reading material is recommended:**\n",
    "\n",
    "- Pang-Ning Tan, Michael Steinbach, and Vipin Kumar, *Introduction to Data Mining*, section 6.\n",
    "\n",
    "\n",
    "## Additional Tools\n",
    "For this exercise you will need to load the provided *apriorimining.py* script. \n",
    "\n",
    "\n",
    "##  5.1 Association mining for course data \n",
    "We will use the Apriori algorithm to automatically mine for associations. The Apriori algorithm is an adapted version of the script found here: https://github.com/nalinaksh/Association-Rule-Mining-Python\n",
    "\n",
    "Check out the script and doc and check if you understand how the association rules are computed. \n",
    "\n"
   ]
  },
  {
   "cell_type": "code",
   "execution_count": null,
   "metadata": {
    "collapsed": true
   },
   "outputs": [],
   "source": [
    "import Toolbox.apriorimining as am\n"
   ]
  },
  {
   "cell_type": "markdown",
   "metadata": {},
   "source": [
    "\n",
    "#### 5.1.1\n",
    "\n",
    "(0 points) Look at the data file `Data/courses.txt` into Python. The data is represented in Table 1. Inspect the file Data/courses.txt and make sure you understand how the data in Table 1 is stored in the text file.\n",
    "\n",
    "##### Table 1\n",
    "|#  |   History |Math| Biology| Spanish | Economics| Physics | Chemistry | English  |  \n",
    "| :-------------: |:-------------:| :-----------:| :----------:| :------------:|:-------------:| :------------:|  :-------------: | :-------------: |\n",
    "|student 1 | 0| 1 | 0 | 0 | 1| 1 |1 |1   \n",
    "|student 2 | 1| 1 | 1 | 0 | 0| 1 |1 |1   \n",
    "|student 3 | 0| 1 | 0 | 1 | 0| 1 |0 |1   \n",
    "|student 4 | 0| 0 | 1 | 0 | 0| 1 |1 |0   \n",
    "|student 5 | 0| 1 | 0 | 0 | 0| 1 |1 |0        \n",
    "|student 6 | 0| 1 | 1 | 0 | 0| 1 |1 |1   \n"
   ]
  },
  {
   "cell_type": "markdown",
   "metadata": {},
   "source": [
    "#### 5.1.2\n",
    "(1 point) We will analyze the data in Table 1 automatically using the function `am.generate_association_rules()` from the script. Analyze the data with $ minsupport  \\geq 80 \\% $ and $ minconfidence \\geq 100 \\%$.What\n",
    "are the generated association rules? What kind of conclusions can you make based on these association rules about the subjects that students took?  \n",
    "  \n"
   ]
  },
  {
   "cell_type": "code",
   "execution_count": null,
   "metadata": {
    "collapsed": true,
    "scrolled": true
   },
   "outputs": [],
   "source": [
    "am.generate_association_rules()\n"
   ]
  },
  {
   "cell_type": "markdown",
   "metadata": {},
   "source": [
    "*Answer 5.1.2:*\n",
    "\n",
    "- #1: Everyone takes the subject Physics. #2: 83.3% of the people takes both Math and Physics, and everyone (100%) who takes Math also takes Physics. #3: 83.3% of the people takes both Chemistry and Physics, and everyone who takes Chemistry also takes Physics.\n",
    "- 1. Everyone takes Physics. 2. Nearly everyone takes both Math and Physics (3.) or Chemistry and Physics."
   ]
  },
  {
   "cell_type": "markdown",
   "metadata": {},
   "source": [
    "  ##  5.2 Association mining for MovieLens data \n",
    "  \n",
    "  \n",
    "  In this part of the exercise we consider a Market Basket data set containing 943 users purchases of 1682 movies. A total of 100,000 movies\n",
    "have been purchased.The data set is called MovieLens100K and is provided by http://www.grouplens.org/node/73, see also the readme `MovieLensData.txt` in the data folder. The data currently considered is not the original data but modified for the apriori algorithm.\n",
    "\n",
    "#### 5.2.1\n",
    "  (0 points) The MovieLens data is stored in the file MovieLensData.txt. Inspect the file to see how the data is stored.\n",
    "\n",
    "\n",
    "#### 5.2.2 \n",
    "  (1 point) Find association rules using the function below with $ minsupport  \\geq 30 \\% $ and $ minconfidence \\geq 80 \\%$. What are the associations with strongest confidence? Do these associations make sense? You can use file Data/u.item to print the movie titles in stead of numbers. If you enter filename `MovieLensData.txt`, the script will provide an additional option for this. \n",
    "  "
   ]
  },
  {
   "cell_type": "code",
   "execution_count": null,
   "metadata": {
    "collapsed": true
   },
   "outputs": [],
   "source": [
    "am.generate_association_rules()"
   ]
  },
  {
   "cell_type": "markdown",
   "metadata": {},
   "source": [
    "*Answer 5.2.2:*\n",
    "\n",
    "The association with the strongest confidence is the association in rule #73. Namely in 99.66% of the cases where X is purchased, Y is also purchased. This makes a lot of sense, since 3 of 4 movies are Star Wars movies and all 4 of them were released around 35 years ago. So people are likely to be interested in all four of the movies since they show many similarities."
   ]
  },
  {
   "cell_type": "markdown",
   "metadata": {},
   "source": [
    "#### 5.2.3 \n",
    "(1 point) Which movie has been bought by the most users? There are only few rules with more than three items. Why?"
   ]
  },
  {
   "cell_type": "markdown",
   "metadata": {},
   "source": [
    "*Answer 5.2.3:*\n",
    "\n",
    "- Star Wars (1977) has been bought by the most users, it was in 61.82% of the transactions.\n",
    "- There are not many transactions with three or more items, since most people buy only a few movies at a time and not 3 or 4 at once."
   ]
  },
  {
   "cell_type": "markdown",
   "metadata": {},
   "source": [
    "#### 5.2.4\n",
    "(0.5 points) Often we are interested in rules with high confidence. Is it possible for\n",
    "itemsets to have very low support but still have a very high confidence?"
   ]
  },
  {
   "cell_type": "markdown",
   "metadata": {},
   "source": [
    "*Answer 5.2.4:*\n",
    "\n",
    "Yes, that's possible. In that case, let's say we have two movies A and B. A and B are not sold very often, but when someone buys one of the two, the other one is very often also in that transaction. This results in a very high confidence, but low overal support."
   ]
  },
  {
   "cell_type": "markdown",
   "metadata": {},
   "source": [
    "## 5.3 Calculating support, confidence and interest\n",
    "\n",
    "Calculate these measures and write down how you computed things, not just the answers. \n",
    "\n",
    "\n",
    "#### 5.3.1\n",
    " Suppose we have market basket data consisting of 100 transactions and 20 items. The support for item $ \\text{a} = 45 \\%$, the support for item $ \\text{b} = 80 \\%$ and the support for itemset $ \\text{ {a,b }} = 30 \\%$. Let the support and confidence thresholds be 20$ \\%$ and 60$ \\%$, respectively.\n",
    "  \n",
    "1. (0.5 points) Compute the confidence of the association rule $ \\text{ {a } } \\rightarrow   \\text{{b }} $. Is the rule interesting according to the confidence measure?\n",
    "\n",
    "2. (0.5 points) Compute the interest measure (or lift, see slide 44 of chapter 6 or https://en.wikipedia.org/wiki/Lift_(data_mining)) for the association pattern $ \\text{ {a } } \\rightarrow   \\text{{b }} $. Describe the nature of the relationship between item $ \\text{a}$ and item $ \\text{b}$  in terms of the itemset measure.\n",
    "3. (1 points) What conclusion can you draw from the results of parts (1) and (2)?\n",
    "\n",
    "4. (1.5 points) Prove that if the confidence of the rule $ \\text{ {a } } \\rightarrow   \\text{{b }} $ is less than the support of $ \\text{ {b }}$  then\n",
    "$$\n",
    "c(  \\text{ {~a } } \\rightarrow   \\text{{b }})> c(  \\text{ {a } } \\rightarrow   \\text{{b }})\n",
    "$$\n",
    "and\n",
    "$$\n",
    "c(  \\text{ {~a } } \\rightarrow   \\text{{b }})> s( {b })\n",
    "$$\n",
    "\n",
    "where $ \\text{c(.)}$  denotes the rule confidence and  $ \\text{s(.)}$ denote the support of an itemset. \n",
    "\n",
    "Hint: To prove the statement rewrite the confidence and the support of the rule in terms of probabilities: \n",
    "$$\n",
    "c(  \\text{ {a } } \\rightarrow   \\text{{b }})=  \\frac{P( {a,b })}{P( {a })}\n",
    "$$\n",
    "\n",
    "and\n",
    "\n",
    "$$\n",
    "s( {b })=P( {b })\n",
    "$$\n",
    "\n",
    "Further more, make use of probability rules such as $p(b) = p(\\text{~}a,b) + p(a,b)$ and $p(\\text{~}a) = 1 - p(a)$ and algebraic rules such as $$ \\frac{p(a,b)}{p(b)} < p(a) \\rightarrow 1 - \\frac{p(a,b)}{p(b)} > 1 - p(a) $$\n"
   ]
  },
  {
   "cell_type": "markdown",
   "metadata": {},
   "source": [
    "*Answer 5.3.1:*\n",
    "\n",
    "1. Confidence(A->B) = support(A U B) / support(A) = 0.3/0.45 = 0.6666... = 2/3;\n",
    " Since the confidence threshold is lower than the confidence of the assocation rule, the rule is interesting.\n",
    "2. Lift(Lift(A->B) = support(A U B) / (support(A) x support(B)) = 0.3 / (0.45 x 0.8) = 0.8333... = 5/6 \n",
    "(A->B) = support(A U B) / (support(A) x support(B)) = 0.3 / (0.45 x 0.8) = 0.8333... = 5/6\n",
    "3. Even though the confidence and support of the association rule are higher then their respective thresholds, the lift is below 1. This suggests that the presence of the items on the left hand side (set A) make the probability, that the items on the right hand side will be part of the transction, lower. When we perform market basket analysis, we are looking for rules with a lift of more then 1.\n",
    "4. $$\n",
    "c(  \\text{{a} } \\rightarrow   \\text{{b}})=  \\frac{P( \\text{{a,b}})}{P( \\text{{a}})} < P(\\text{{b}})\n",
    "$$\n",
    "this implies\n",
    "$$\n",
    "P(\\text{{a}})P(\\text{{b}}) > P(\\text{{a,b}})\n",
    "$$\n",
    "$$\n",
    "c(\\text{{~a}} \\rightarrow \\text{{b}}) = \\frac{P( \\text{{~a,b}})}{P( \\text{{~a}})} = \\frac{P( \\text{{b}}) - P( \\text{{a,b}})}{1 - P( \\text{{a}})}\n",
    "$$\n",
    "So\n",
    "$$\n",
    "c(\\text{{~a}} \\rightarrow \\text{{b}}) - c(\\text{{a}} \\rightarrow \\text{{b}}) = \\frac{P( \\text{{b}}) - P( \\text{{a,b}})}{1 - P( \\text{{a}})} - \\frac{P( \\text{{a,b}})}{P( \\text{{a}})} = \\frac{P(\\text{{a}})P(\\text{{b}}) - P(\\text{{a,b}})}{P(\\text{{a}})(1-P(\\text{{b}}))}\n",
    "$$\n",
    "This is positive because \n",
    "$$\n",
    "P(\\text{{a}})P(\\text{{b}}) > P(\\text{{a,b}})\n",
    "$$\n",
    "Also\n",
    "$$\n",
    "c(\\text{{~a}} \\rightarrow \\text{{b}}) - s(\\text{{b}}) = \\frac{P( \\text{{b}}) - P( \\text{{a,b}})}{1 - P( \\text{{a}})} - P( \\text{{b}}) = \\frac{P(\\text{{a}})P(\\text{{b}}) - P(\\text{{a,b}})}{(1-P(\\text{{a}}))}\n",
    "$$\n",
    "This is always positive because \n",
    "$$\n",
    "P(\\text{{a}})P(\\text{{b}}) > P(\\text{{a,b}})\n",
    "$$"
   ]
  },
  {
   "cell_type": "markdown",
   "metadata": {},
   "source": [
    "\n",
    "#### 5.3.2\n",
    "\n",
    "(3 points) Consider the relationships between customers who buy high-definition televisions and exercise machines as shown in Table 2 and 3.\n",
    "\n",
    "1. Compute the odd ratios for both tables.\n",
    "2. Compute the $\\phi$-coefficient for both tables.\n",
    "3. Compute the interest factor for both tables.\n",
    "\n",
    "For Table 3 you should compute measures given above separately for College\n",
    "Students and for Adults. For each of the measures, describe how the direction\n",
    "of association changes when data is pooled together (Table 2) instead of being\n",
    "separated into two groups (Table 3)\n",
    "\n",
    "##### Table 2: Two way contingency table between the sale of high-definition television and exercise machine\n",
    "| |   Buy Exercise machine |     |     |\n",
    "| :------------- | -------------:| :-----------:| :----------:| \n",
    "| **Buy HDTV     ** | yes | no | total |\n",
    "| yes  | 105| 87 | 192 | \n",
    "| no | 40| 62 | 102 |   \n",
    "| total | 145 | 149 | 294 | \n",
    " \n",
    "\n",
    "##### Table 3: Example of three-way contingency table\n",
    "| | |   Buy Exercise machine |     |     |\n",
    "|--- | :------------- | -------------:| :-----------:| :----------:| \n",
    "|**Customer group** | **Buy HDTV     ** | yes | no | total |\n",
    "|College students | yes  | 2| 9 | 11 | \n",
    "| | no | 5| 20 | 25 |\n",
    "| Working adults | yes  | 103| 78 | 181 | \n",
    "| | no | 35| 42 | 77 |  \n",
    "\n"
   ]
  },
  {
   "cell_type": "markdown",
   "metadata": {},
   "source": [
    "*Answer 5.3.2:*\n",
    "\n",
    "1. Odds Ratio Table 2: (105/87)/(40/62) = 0.645;\n",
    "   Odds Ratio Table 3: (2/9)/(5/20) = 0.890 &\n",
    "   (103/78)/(35/42) = 1.585\n",
    "2. phi-coefficient Table 2: (105*62-87*40)/sqt(192*145(294-192)*(294-145);\n",
    "   phi-coefficient Talbe 3: (2*20-9*5)/sqt(11*7(36-5)*(36-11)) &\n",
    "   (103*42-78*35)/sqrt(181*138(258-181)*(258-138))\n",
    "3. "
   ]
  },
  {
   "cell_type": "code",
   "execution_count": null,
   "metadata": {
    "collapsed": true
   },
   "outputs": [],
   "source": []
  }
 ],
 "metadata": {
  "anaconda-cloud": {},
  "kernelspec": {
   "display_name": "Python 2",
   "language": "python",
   "name": "python2"
  },
  "language_info": {
   "codemirror_mode": {
    "name": "ipython",
    "version": 2
   },
   "file_extension": ".py",
   "mimetype": "text/x-python",
   "name": "python",
   "nbconvert_exporter": "python",
   "pygments_lexer": "ipython2",
   "version": "2.7.12"
  }
 },
 "nbformat": 4,
 "nbformat_minor": 1
}
